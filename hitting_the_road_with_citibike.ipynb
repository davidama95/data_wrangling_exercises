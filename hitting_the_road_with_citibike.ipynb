{
 "cells": [
  {
   "cell_type": "code",
   "execution_count": 3,
   "id": "64cfc3bc",
   "metadata": {},
   "outputs": [],
   "source": [
    "#import the 'csv' library\n",
    "import csv\n",
    "import pandas as pd"
   ]
  },
  {
   "cell_type": "code",
   "execution_count": 7,
   "id": "83edafcc",
   "metadata": {},
   "outputs": [],
   "source": [
    "citibike_reader = pd.read_csv('202009-citibike-tripdata.csv')"
   ]
  },
  {
   "cell_type": "code",
   "execution_count": 8,
   "id": "96209c3f",
   "metadata": {},
   "outputs": [
    {
     "data": {
      "text/html": [
       "<div>\n",
       "<style scoped>\n",
       "    .dataframe tbody tr th:only-of-type {\n",
       "        vertical-align: middle;\n",
       "    }\n",
       "\n",
       "    .dataframe tbody tr th {\n",
       "        vertical-align: top;\n",
       "    }\n",
       "\n",
       "    .dataframe thead th {\n",
       "        text-align: right;\n",
       "    }\n",
       "</style>\n",
       "<table border=\"1\" class=\"dataframe\">\n",
       "  <thead>\n",
       "    <tr style=\"text-align: right;\">\n",
       "      <th></th>\n",
       "      <th>tripduration</th>\n",
       "      <th>starttime</th>\n",
       "      <th>stoptime</th>\n",
       "      <th>start station id</th>\n",
       "      <th>start station name</th>\n",
       "      <th>start station latitude</th>\n",
       "      <th>start station longitude</th>\n",
       "      <th>end station id</th>\n",
       "      <th>end station name</th>\n",
       "      <th>end station latitude</th>\n",
       "      <th>end station longitude</th>\n",
       "      <th>bikeid</th>\n",
       "      <th>usertype</th>\n",
       "      <th>birth year</th>\n",
       "      <th>gender</th>\n",
       "    </tr>\n",
       "  </thead>\n",
       "  <tbody>\n",
       "    <tr>\n",
       "      <th>0</th>\n",
       "      <td>4225</td>\n",
       "      <td>2020-09-01 00:00:01.0430</td>\n",
       "      <td>2020-09-01 01:10:26.6350</td>\n",
       "      <td>3508</td>\n",
       "      <td>St Nicholas Ave &amp; Manhattan Ave</td>\n",
       "      <td>40.809725</td>\n",
       "      <td>-73.953149</td>\n",
       "      <td>116</td>\n",
       "      <td>W 17 St &amp; 8 Ave</td>\n",
       "      <td>40.741776</td>\n",
       "      <td>-74.001497</td>\n",
       "      <td>44317</td>\n",
       "      <td>Customer</td>\n",
       "      <td>1979</td>\n",
       "      <td>1</td>\n",
       "    </tr>\n",
       "    <tr>\n",
       "      <th>1</th>\n",
       "      <td>1868</td>\n",
       "      <td>2020-09-01 00:00:04.8320</td>\n",
       "      <td>2020-09-01 00:31:13.7650</td>\n",
       "      <td>3621</td>\n",
       "      <td>27 Ave &amp; 9 St</td>\n",
       "      <td>40.773983</td>\n",
       "      <td>-73.930913</td>\n",
       "      <td>3094</td>\n",
       "      <td>Graham Ave &amp; Withers St</td>\n",
       "      <td>40.716981</td>\n",
       "      <td>-73.944859</td>\n",
       "      <td>37793</td>\n",
       "      <td>Customer</td>\n",
       "      <td>1991</td>\n",
       "      <td>1</td>\n",
       "    </tr>\n",
       "    <tr>\n",
       "      <th>2</th>\n",
       "      <td>1097</td>\n",
       "      <td>2020-09-01 00:00:06.8990</td>\n",
       "      <td>2020-09-01 00:18:24.2260</td>\n",
       "      <td>3492</td>\n",
       "      <td>E 118 St &amp; Park Ave</td>\n",
       "      <td>40.800539</td>\n",
       "      <td>-73.941995</td>\n",
       "      <td>3959</td>\n",
       "      <td>Edgecombe Ave &amp; W 145 St</td>\n",
       "      <td>40.823498</td>\n",
       "      <td>-73.943860</td>\n",
       "      <td>41438</td>\n",
       "      <td>Subscriber</td>\n",
       "      <td>1984</td>\n",
       "      <td>1</td>\n",
       "    </tr>\n",
       "    <tr>\n",
       "      <th>3</th>\n",
       "      <td>1473</td>\n",
       "      <td>2020-09-01 00:00:07.7440</td>\n",
       "      <td>2020-09-01 00:24:41.1800</td>\n",
       "      <td>3946</td>\n",
       "      <td>St Nicholas Ave &amp; W 137 St</td>\n",
       "      <td>40.818477</td>\n",
       "      <td>-73.947568</td>\n",
       "      <td>4002</td>\n",
       "      <td>W 144 St &amp; Adam Clayton Powell Blvd</td>\n",
       "      <td>40.820877</td>\n",
       "      <td>-73.939249</td>\n",
       "      <td>35860</td>\n",
       "      <td>Customer</td>\n",
       "      <td>1990</td>\n",
       "      <td>2</td>\n",
       "    </tr>\n",
       "    <tr>\n",
       "      <th>4</th>\n",
       "      <td>1193</td>\n",
       "      <td>2020-09-01 00:00:12.2020</td>\n",
       "      <td>2020-09-01 00:20:05.5470</td>\n",
       "      <td>3081</td>\n",
       "      <td>Graham Ave &amp; Grand St</td>\n",
       "      <td>40.711863</td>\n",
       "      <td>-73.944024</td>\n",
       "      <td>3048</td>\n",
       "      <td>Putnam Ave &amp; Nostrand Ave</td>\n",
       "      <td>40.684020</td>\n",
       "      <td>-73.949770</td>\n",
       "      <td>26396</td>\n",
       "      <td>Customer</td>\n",
       "      <td>1969</td>\n",
       "      <td>0</td>\n",
       "    </tr>\n",
       "  </tbody>\n",
       "</table>\n",
       "</div>"
      ],
      "text/plain": [
       "   tripduration                 starttime                  stoptime  \\\n",
       "0          4225  2020-09-01 00:00:01.0430  2020-09-01 01:10:26.6350   \n",
       "1          1868  2020-09-01 00:00:04.8320  2020-09-01 00:31:13.7650   \n",
       "2          1097  2020-09-01 00:00:06.8990  2020-09-01 00:18:24.2260   \n",
       "3          1473  2020-09-01 00:00:07.7440  2020-09-01 00:24:41.1800   \n",
       "4          1193  2020-09-01 00:00:12.2020  2020-09-01 00:20:05.5470   \n",
       "\n",
       "   start station id               start station name  start station latitude  \\\n",
       "0              3508  St Nicholas Ave & Manhattan Ave               40.809725   \n",
       "1              3621                    27 Ave & 9 St               40.773983   \n",
       "2              3492              E 118 St & Park Ave               40.800539   \n",
       "3              3946       St Nicholas Ave & W 137 St               40.818477   \n",
       "4              3081            Graham Ave & Grand St               40.711863   \n",
       "\n",
       "   start station longitude  end station id  \\\n",
       "0               -73.953149             116   \n",
       "1               -73.930913            3094   \n",
       "2               -73.941995            3959   \n",
       "3               -73.947568            4002   \n",
       "4               -73.944024            3048   \n",
       "\n",
       "                      end station name  end station latitude  \\\n",
       "0                      W 17 St & 8 Ave             40.741776   \n",
       "1              Graham Ave & Withers St             40.716981   \n",
       "2             Edgecombe Ave & W 145 St             40.823498   \n",
       "3  W 144 St & Adam Clayton Powell Blvd             40.820877   \n",
       "4            Putnam Ave & Nostrand Ave             40.684020   \n",
       "\n",
       "   end station longitude  bikeid    usertype  birth year  gender  \n",
       "0             -74.001497   44317    Customer        1979       1  \n",
       "1             -73.944859   37793    Customer        1991       1  \n",
       "2             -73.943860   41438  Subscriber        1984       1  \n",
       "3             -73.939249   35860    Customer        1990       2  \n",
       "4             -73.949770   26396    Customer        1969       0  "
      ]
     },
     "execution_count": 8,
     "metadata": {},
     "output_type": "execute_result"
    }
   ],
   "source": [
    "citibike_reader.head()"
   ]
  },
  {
   "cell_type": "code",
   "execution_count": 9,
   "id": "f4f5e23e",
   "metadata": {},
   "outputs": [
    {
     "data": {
      "text/plain": [
       "Index(['tripduration', 'starttime', 'stoptime', 'start station id',\n",
       "       'start station name', 'start station latitude',\n",
       "       'start station longitude', 'end station id', 'end station name',\n",
       "       'end station latitude', 'end station longitude', 'bikeid', 'usertype',\n",
       "       'birth year', 'gender'],\n",
       "      dtype='object')"
      ]
     },
     "execution_count": 9,
     "metadata": {},
     "output_type": "execute_result"
    }
   ],
   "source": [
    "citibike_reader.columns"
   ]
  },
  {
   "cell_type": "code",
   "execution_count": 11,
   "id": "1519afce",
   "metadata": {},
   "outputs": [
    {
     "data": {
      "text/plain": [
       "tripduration                 int64\n",
       "starttime                   object\n",
       "stoptime                    object\n",
       "start station id             int64\n",
       "start station name          object\n",
       "start station latitude     float64\n",
       "start station longitude    float64\n",
       "end station id               int64\n",
       "end station name            object\n",
       "end station latitude       float64\n",
       "end station longitude      float64\n",
       "bikeid                       int64\n",
       "usertype                    object\n",
       "birth year                   int64\n",
       "gender                       int64\n",
       "dtype: object"
      ]
     },
     "execution_count": 11,
     "metadata": {},
     "output_type": "execute_result"
    }
   ],
   "source": [
    "citibike_reader.dtypes"
   ]
  }
 ],
 "metadata": {
  "kernelspec": {
   "display_name": "Python 3 (ipykernel)",
   "language": "python",
   "name": "python3"
  },
  "language_info": {
   "codemirror_mode": {
    "name": "ipython",
    "version": 3
   },
   "file_extension": ".py",
   "mimetype": "text/x-python",
   "name": "python",
   "nbconvert_exporter": "python",
   "pygments_lexer": "ipython3",
   "version": "3.10.7"
  }
 },
 "nbformat": 4,
 "nbformat_minor": 5
}
